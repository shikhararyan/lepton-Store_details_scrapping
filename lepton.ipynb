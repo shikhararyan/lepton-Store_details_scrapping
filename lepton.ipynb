{
  "nbformat": 4,
  "nbformat_minor": 0,
  "metadata": {
    "colab": {
      "provenance": []
    },
    "kernelspec": {
      "name": "python3",
      "display_name": "Python 3"
    },
    "language_info": {
      "name": "python"
    }
  },
  "cells": [
    {
      "cell_type": "markdown",
      "source": [
        "# **Retail Store Location Scraper** \n",
        "## **Store - V-Mart**\n"
      ],
      "metadata": {
        "id": "NKw9D7JBF5ON"
      }
    },
    {
      "cell_type": "markdown",
      "source": [
        "# **Importing required libraries**\n",
        "\n",
        "**requests**: This library is used to make HTTP requests to a website and retrieve the HTML content of a web page.\n",
        "\n",
        "\n",
        "**pandas**: This library is used for data manipulation and analysis. It provides data structures for efficiently storing and analyzing data, as well as tools for importing and exporting data from various file formats.\n",
        "\n",
        "\n",
        "**re**: This is the built-in regular expression library in Python. It provides functions for working with regular expressions, which are patterns used to match and manipulate text.\n",
        "\n",
        "\n",
        "**BeautifulSoup**: This library is used for parsing HTML and XML documents. It provides tools for navigating and searching the structure of an HTML/XML document, and extracting specific elements and data from it."
      ],
      "metadata": {
        "id": "CcPdQNZ7i9Zn"
      }
    },
    {
      "cell_type": "code",
      "execution_count": 1,
      "metadata": {
        "colab": {
          "base_uri": "https://localhost:8080/"
        },
        "id": "VOaTGoipJnQ8",
        "outputId": "2047caf4-2a9a-44e4-a5b8-5a043aece17f"
      },
      "outputs": [
        {
          "output_type": "stream",
          "name": "stdout",
          "text": [
            "<Response [200]>\n"
          ]
        }
      ],
      "source": [
        "import requests\n",
        "import pandas as pd\n",
        "import re\n",
        "from bs4 import BeautifulSoup\n",
        "\n",
        "# Sendin a GET request to the website we want to scrape \n",
        "# I took V-mart store for this project\n",
        "url = 'https://stores.vmartretail.com/'\n",
        "response = requests.get(url)\n",
        "\n",
        "print(response)"
      ]
    },
    {
      "cell_type": "markdown",
      "source": [
        "# **request status**\n",
        "200 status code is a successful response from the server indicating that the request was processed and completed successfully. This is the most common status code that you will encounter when making HTTP requests."
      ],
      "metadata": {
        "id": "EctRXGf1l8xt"
      }
    },
    {
      "cell_type": "markdown",
      "source": [
        "**Creating a dataFrame df to store our data**"
      ],
      "metadata": {
        "id": "84yssHnnjYwe"
      }
    },
    {
      "cell_type": "code",
      "source": [
        "df = pd.DataFrame(columns=[\"address\", \"area\", \"contact_no\", \"coordinates\", \"timing\",'directions'])\n"
      ],
      "metadata": {
        "id": "FbBv3swgi3M1"
      },
      "execution_count": 2,
      "outputs": []
    },
    {
      "cell_type": "markdown",
      "source": [
        "# **Address**\n",
        "**find_all** is a method of the soup object that searches the HTML document for all <span> elements with a class attribute of \"**store-address-info idx-info-card-str-add-info**\".\n",
        "\n",
        "The **for** loop iterates over each <span> element in the list of spans returned by find_all. For each element, the text attribute is extracted and stored in the variable address.\n",
        "\n",
        "A new Pandas DataFrame is created with a single column called address containing the extracted text, and this DataFrame is concatenated with an existing DataFrame called df using the pd.concat function.\n",
        "\n",
        "The ignore_index=True argument is used to reset the index of the concatenated DataFrame."
      ],
      "metadata": {
        "id": "bokz_vEFjen1"
      }
    },
    {
      "cell_type": "code",
      "source": [
        "\n",
        "# Parse the HTML content of the page using BeautifulSoup\n",
        "soup = BeautifulSoup(response.content, 'html.parser')\n",
        "\n",
        "spans = soup.find_all(\"span\", class_=\"store-address-info idx-info-card-str-add-info\")\n",
        "\n",
        "# loop through the list of <span> elements and add the text to the DataFrame\n",
        "for span in spans:\n",
        "    address = span.text.strip()\n",
        "    df = pd.concat([df, pd.DataFrame({\"address\": [address]})], ignore_index=True)\n"
      ],
      "metadata": {
        "id": "v9SD9o19Mv_o"
      },
      "execution_count": 3,
      "outputs": []
    },
    {
      "cell_type": "markdown",
      "source": [
        "# **Area**\n",
        "**find_all** is a method of the soup object that searches the HTML document for all **h2** elements with a class attribute of \"**idx-info-card-str-name mb-0**\".\n",
        "\n",
        "\n",
        "The **if not spans:** statement checks if any matching **h2** elements were found. If no matches were found, an exception is raised.\n",
        "\n",
        "The for loop iterates over each** h2** element in the list of spans returned by **find_all**. For each element, the text attribute is extracted and stored in the variable area. The enumerate function is used to provide an index for each element, and the at method is used to add the area value to the corresponding row of the DataFrame.\n",
        "\n",
        "The **if df.empty:** statement checks if any data was added to the DataFrame. If no data was added, an exception is raised.\n",
        "\n",
        "The **str.replace** method is used to remove the string \"V-Mart \" from each value in the \"area\" column of the DataFrame."
      ],
      "metadata": {
        "id": "H25uwB-_m_1L"
      }
    },
    {
      "cell_type": "code",
      "source": [
        "spans = soup.find_all(\"h2\", class_=\"idx-info-card-str-name mb-0\")\n",
        "\n",
        "if not spans:\n",
        "    raise Exception(f\"No matching spans found\")\n",
        "\n",
        "for i, span in enumerate(spans):\n",
        "    area = span.text.strip()\n",
        "    df.at[i, \"area\"] = area\n",
        "\n",
        "if df.empty:\n",
        "    raise Exception(f\"No data added to DataFrame\")\n",
        "df['area'] = df['area'].str.replace('V-Mart ', '')\n",
        "\n"
      ],
      "metadata": {
        "id": "ZZgUHvolhJPn"
      },
      "execution_count": 4,
      "outputs": []
    },
    {
      "cell_type": "markdown",
      "source": [
        "# **Contact number**\n",
        "This code uses the BeautifulSoup library to **extract all anchor tags** (a) that have **a tel: href attribute**. Then, it loops through each anchor tag, extracts the phone number from its href attribute using the unquote() method, and appends it to a new DataFrame c. \n",
        "\n",
        "Finally, the phone numbers in c are added to an existing DataFrame df as a new column named \"**contact_no**\"."
      ],
      "metadata": {
        "id": "A7ovXyPQnZkF"
      }
    },
    {
      "cell_type": "code",
      "source": [
        "from urllib.parse import unquote\n",
        "tags = soup.find_all(\"a\", href=lambda href: href and href.startswith(\"tel:\"))\n",
        "\n",
        "# Extracting the phone number from each tag's href attribute and append to the dataframe\n",
        "c = pd.DataFrame(columns=[ \"contact_no\"])\n",
        "for tag in tags:\n",
        "    phone_number = unquote(tag['href'].split(\":\")[1])\n",
        "    c = pd.concat([c, pd.DataFrame({\"contact_no\": [phone_number]})], ignore_index=True)\n",
        "\n",
        "df[\"contact_no\"] = c[\"contact_no\"]"
      ],
      "metadata": {
        "id": "vmi8AqmxlgOk"
      },
      "execution_count": 5,
      "outputs": []
    },
    {
      "cell_type": "markdown",
      "source": [
        "# **Timing**\n",
        "This code uses the BeautifulSoup library to **extract all span tags** (span) that have a **class name** of \"**store-time-info idx-info-card-str-time-info**\". \n",
        "\n",
        "Then, it **loops** through each span tag, **extracts** the time information from its text using the **text.strip() method,** and appends it to a new DataFrame t. Finally, the time information in t is added to an existing DataFrame df as a new column named \"**timing**\"."
      ],
      "metadata": {
        "id": "4S2Qwp1bnuhf"
      }
    },
    {
      "cell_type": "code",
      "source": [
        "\n",
        "spans = soup.find_all(\"span\", class_=\"store-time-info idx-info-card-str-time-info\")\n",
        "t = pd.DataFrame(columns=[ \"timing\"])\n",
        "\n",
        "# loop through the list of <span> elements and add the text to the DataFrame\n",
        "for span in spans:\n",
        "    timing = span.text.strip()\n",
        "    t = pd.concat([t, pd.DataFrame({\"timing\": [timing]})],ignore_index=True)\n",
        "\n",
        "df[\"timing\"] = t[\"timing\"]"
      ],
      "metadata": {
        "id": "MZq_2dTt1XJy"
      },
      "execution_count": 6,
      "outputs": []
    },
    {
      "cell_type": "code",
      "source": [
        "df.head()"
      ],
      "metadata": {
        "colab": {
          "base_uri": "https://localhost:8080/",
          "height": 206
        },
        "id": "7q5dPO7Oz9g9",
        "outputId": "099d35ad-9b26-43ac-c9a7-a1699621c36e"
      },
      "execution_count": 7,
      "outputs": [
        {
          "output_type": "execute_result",
          "data": {
            "text/plain": [
              "                                             address  \\\n",
              "0  No D 3, Block 1, Central Market 2, Lajpat Naga...   \n",
              "1  Shop No 610 And 611, Ravi Das Marg, Main Bazar...   \n",
              "2  C 7, Jyoti Nagar West, North Chajjupur, Block ...   \n",
              "3  No E/561/A & E/561B, Palam Extension, Dwarka, ...   \n",
              "4  Virendar Nagar, Block B, Sant Nagar, 100 feet ...   \n",
              "\n",
              "                              area      contact_no coordinates  \\\n",
              "0   Lajpat Nagar, South East Delhi      7872478724         NaN   \n",
              "1           Laxmi Nagar, New Delhi  0844 8982 285          NaN   \n",
              "2              Shahdara, New Delhi  0844 8982 285          NaN   \n",
              "3                Dwarka, New Delhi  0931 3699 995          NaN   \n",
              "4              Burari, North Delhi  0931 3699 995          NaN   \n",
              "\n",
              "                                timing directions  \n",
              "0  10:00 AM to 10:00 PM (Closing Soon)        NaN  \n",
              "1  10:00 AM to 10:00 PM (Closing Soon)        NaN  \n",
              "2  10:00 AM to 10:00 PM (Closing Soon)        NaN  \n",
              "3  10:00 AM to 10:00 PM (Closing Soon)        NaN  \n",
              "4  10:00 AM to 10:00 PM (Closing Soon)        NaN  "
            ],
            "text/html": [
              "\n",
              "  <div id=\"df-21268e6e-9dd5-44d7-9aa6-45d709ab8c9d\">\n",
              "    <div class=\"colab-df-container\">\n",
              "      <div>\n",
              "<style scoped>\n",
              "    .dataframe tbody tr th:only-of-type {\n",
              "        vertical-align: middle;\n",
              "    }\n",
              "\n",
              "    .dataframe tbody tr th {\n",
              "        vertical-align: top;\n",
              "    }\n",
              "\n",
              "    .dataframe thead th {\n",
              "        text-align: right;\n",
              "    }\n",
              "</style>\n",
              "<table border=\"1\" class=\"dataframe\">\n",
              "  <thead>\n",
              "    <tr style=\"text-align: right;\">\n",
              "      <th></th>\n",
              "      <th>address</th>\n",
              "      <th>area</th>\n",
              "      <th>contact_no</th>\n",
              "      <th>coordinates</th>\n",
              "      <th>timing</th>\n",
              "      <th>directions</th>\n",
              "    </tr>\n",
              "  </thead>\n",
              "  <tbody>\n",
              "    <tr>\n",
              "      <th>0</th>\n",
              "      <td>No D 3, Block 1, Central Market 2, Lajpat Naga...</td>\n",
              "      <td>Lajpat Nagar, South East Delhi</td>\n",
              "      <td>7872478724</td>\n",
              "      <td>NaN</td>\n",
              "      <td>10:00 AM to 10:00 PM (Closing Soon)</td>\n",
              "      <td>NaN</td>\n",
              "    </tr>\n",
              "    <tr>\n",
              "      <th>1</th>\n",
              "      <td>Shop No 610 And 611, Ravi Das Marg, Main Bazar...</td>\n",
              "      <td>Laxmi Nagar, New Delhi</td>\n",
              "      <td>0844 8982 285</td>\n",
              "      <td>NaN</td>\n",
              "      <td>10:00 AM to 10:00 PM (Closing Soon)</td>\n",
              "      <td>NaN</td>\n",
              "    </tr>\n",
              "    <tr>\n",
              "      <th>2</th>\n",
              "      <td>C 7, Jyoti Nagar West, North Chajjupur, Block ...</td>\n",
              "      <td>Shahdara, New Delhi</td>\n",
              "      <td>0844 8982 285</td>\n",
              "      <td>NaN</td>\n",
              "      <td>10:00 AM to 10:00 PM (Closing Soon)</td>\n",
              "      <td>NaN</td>\n",
              "    </tr>\n",
              "    <tr>\n",
              "      <th>3</th>\n",
              "      <td>No E/561/A &amp; E/561B, Palam Extension, Dwarka, ...</td>\n",
              "      <td>Dwarka, New Delhi</td>\n",
              "      <td>0931 3699 995</td>\n",
              "      <td>NaN</td>\n",
              "      <td>10:00 AM to 10:00 PM (Closing Soon)</td>\n",
              "      <td>NaN</td>\n",
              "    </tr>\n",
              "    <tr>\n",
              "      <th>4</th>\n",
              "      <td>Virendar Nagar, Block B, Sant Nagar, 100 feet ...</td>\n",
              "      <td>Burari, North Delhi</td>\n",
              "      <td>0931 3699 995</td>\n",
              "      <td>NaN</td>\n",
              "      <td>10:00 AM to 10:00 PM (Closing Soon)</td>\n",
              "      <td>NaN</td>\n",
              "    </tr>\n",
              "  </tbody>\n",
              "</table>\n",
              "</div>\n",
              "      <button class=\"colab-df-convert\" onclick=\"convertToInteractive('df-21268e6e-9dd5-44d7-9aa6-45d709ab8c9d')\"\n",
              "              title=\"Convert this dataframe to an interactive table.\"\n",
              "              style=\"display:none;\">\n",
              "        \n",
              "  <svg xmlns=\"http://www.w3.org/2000/svg\" height=\"24px\"viewBox=\"0 0 24 24\"\n",
              "       width=\"24px\">\n",
              "    <path d=\"M0 0h24v24H0V0z\" fill=\"none\"/>\n",
              "    <path d=\"M18.56 5.44l.94 2.06.94-2.06 2.06-.94-2.06-.94-.94-2.06-.94 2.06-2.06.94zm-11 1L8.5 8.5l.94-2.06 2.06-.94-2.06-.94L8.5 2.5l-.94 2.06-2.06.94zm10 10l.94 2.06.94-2.06 2.06-.94-2.06-.94-.94-2.06-.94 2.06-2.06.94z\"/><path d=\"M17.41 7.96l-1.37-1.37c-.4-.4-.92-.59-1.43-.59-.52 0-1.04.2-1.43.59L10.3 9.45l-7.72 7.72c-.78.78-.78 2.05 0 2.83L4 21.41c.39.39.9.59 1.41.59.51 0 1.02-.2 1.41-.59l7.78-7.78 2.81-2.81c.8-.78.8-2.07 0-2.86zM5.41 20L4 18.59l7.72-7.72 1.47 1.35L5.41 20z\"/>\n",
              "  </svg>\n",
              "      </button>\n",
              "      \n",
              "  <style>\n",
              "    .colab-df-container {\n",
              "      display:flex;\n",
              "      flex-wrap:wrap;\n",
              "      gap: 12px;\n",
              "    }\n",
              "\n",
              "    .colab-df-convert {\n",
              "      background-color: #E8F0FE;\n",
              "      border: none;\n",
              "      border-radius: 50%;\n",
              "      cursor: pointer;\n",
              "      display: none;\n",
              "      fill: #1967D2;\n",
              "      height: 32px;\n",
              "      padding: 0 0 0 0;\n",
              "      width: 32px;\n",
              "    }\n",
              "\n",
              "    .colab-df-convert:hover {\n",
              "      background-color: #E2EBFA;\n",
              "      box-shadow: 0px 1px 2px rgba(60, 64, 67, 0.3), 0px 1px 3px 1px rgba(60, 64, 67, 0.15);\n",
              "      fill: #174EA6;\n",
              "    }\n",
              "\n",
              "    [theme=dark] .colab-df-convert {\n",
              "      background-color: #3B4455;\n",
              "      fill: #D2E3FC;\n",
              "    }\n",
              "\n",
              "    [theme=dark] .colab-df-convert:hover {\n",
              "      background-color: #434B5C;\n",
              "      box-shadow: 0px 1px 3px 1px rgba(0, 0, 0, 0.15);\n",
              "      filter: drop-shadow(0px 1px 2px rgba(0, 0, 0, 0.3));\n",
              "      fill: #FFFFFF;\n",
              "    }\n",
              "  </style>\n",
              "\n",
              "      <script>\n",
              "        const buttonEl =\n",
              "          document.querySelector('#df-21268e6e-9dd5-44d7-9aa6-45d709ab8c9d button.colab-df-convert');\n",
              "        buttonEl.style.display =\n",
              "          google.colab.kernel.accessAllowed ? 'block' : 'none';\n",
              "\n",
              "        async function convertToInteractive(key) {\n",
              "          const element = document.querySelector('#df-21268e6e-9dd5-44d7-9aa6-45d709ab8c9d');\n",
              "          const dataTable =\n",
              "            await google.colab.kernel.invokeFunction('convertToInteractive',\n",
              "                                                     [key], {});\n",
              "          if (!dataTable) return;\n",
              "\n",
              "          const docLinkHtml = 'Like what you see? Visit the ' +\n",
              "            '<a target=\"_blank\" href=https://colab.research.google.com/notebooks/data_table.ipynb>data table notebook</a>'\n",
              "            + ' to learn more about interactive tables.';\n",
              "          element.innerHTML = '';\n",
              "          dataTable['output_type'] = 'display_data';\n",
              "          await google.colab.output.renderOutput(dataTable, element);\n",
              "          const docLink = document.createElement('div');\n",
              "          docLink.innerHTML = docLinkHtml;\n",
              "          element.appendChild(docLink);\n",
              "        }\n",
              "      </script>\n",
              "    </div>\n",
              "  </div>\n",
              "  "
            ]
          },
          "metadata": {},
          "execution_count": 7
        }
      ]
    },
    {
      "cell_type": "markdown",
      "source": [
        "# **Location Links**\n",
        "This code is **extracting** the **href** values from **anchor tags** that have a** child i tag** with a **specific class attribute**. \n",
        "\n",
        "It first uses the **find_all() method** to **find all i tags** with **class attribute \"flaticon-location-arrow align-middle map-icn mr-1\"**. \n",
        "\n",
        "Then it **creates an empty list to store the href values**. \n",
        "\n",
        "It **loops** through the **i tags** and **gets** the **parent anchor tag**. I**f the parent anchor tag has an href attribute**, the** href value is added to the list**. \n",
        "\n",
        "Finally, a Pandas DataFrame is created with the href values and printed."
      ],
      "metadata": {
        "id": "bkaXXS_CoX0B"
      }
    },
    {
      "cell_type": "code",
      "source": [
        "tags = soup.find_all(\"i\", {\"class\": \"flaticon-location-arrow align-middle map-icn mr-1\"})\n",
        "\n",
        "# Creating an empty list to store the href values\n",
        "href_list = []\n",
        "\n",
        "for tag in tags:\n",
        "    # Getting the parent anchor tag of the <i> tag\n",
        "    parent_tag = tag.parent\n",
        "    \n",
        "    # Checking if the href attribute exists in the parent anchor tag\n",
        "    if \"href\" in parent_tag.attrs:\n",
        "        # Append the href value to the list\n",
        "        href_list.append(parent_tag[\"href\"])\n",
        "\n",
        "# Creating a Pandas DataFrame with the href values\n",
        "location = pd.DataFrame({\"href\": href_list})\n",
        "\n",
        "# Print the DataFrame\n",
        "print(location)"
      ],
      "metadata": {
        "colab": {
          "base_uri": "https://localhost:8080/"
        },
        "id": "MRPTk40gAQKH",
        "outputId": "7d071190-3c5c-4e3e-ba76-b20cdb9e8292"
      },
      "execution_count": 8,
      "outputs": [
        {
          "output_type": "stream",
          "name": "stdout",
          "text": [
            "                                                 href\n",
            "0   https://www.google.com/maps/dir/?api=1&origin=...\n",
            "1   https://www.google.com/maps/dir/?api=1&origin=...\n",
            "2   https://www.google.com/maps/dir/?api=1&origin=...\n",
            "3   https://www.google.com/maps/dir/?api=1&origin=...\n",
            "4   https://www.google.com/maps/dir/?api=1&origin=...\n",
            "5   https://www.google.com/maps/dir/?api=1&origin=...\n",
            "6   https://www.google.com/maps/dir/?api=1&origin=...\n",
            "7   https://www.google.com/maps/dir/?api=1&origin=...\n",
            "8   https://www.google.com/maps/dir/?api=1&origin=...\n",
            "9   https://www.google.com/maps/dir/?api=1&origin=...\n",
            "10  https://www.google.com/maps/dir/?api=1&origin=...\n",
            "11  https://www.google.com/maps/dir/?api=1&origin=...\n",
            "12  https://www.google.com/maps/dir/?api=1&origin=...\n",
            "13  https://www.google.com/maps/dir/?api=1&origin=...\n",
            "14  https://www.google.com/maps/dir/?api=1&origin=...\n",
            "15  https://www.google.com/maps/dir/?api=1&origin=...\n",
            "16  https://www.google.com/maps/dir/?api=1&origin=...\n",
            "17  https://www.google.com/maps/dir/?api=1&origin=...\n",
            "18  https://www.google.com/maps/dir/?api=1&origin=...\n",
            "19  https://www.google.com/maps/dir/?api=1&origin=...\n",
            "20  https://www.google.com/maps/dir/?api=1&origin=...\n",
            "21  https://www.google.com/maps/dir/?api=1&origin=...\n",
            "22  https://www.google.com/maps/dir/?api=1&origin=...\n",
            "23  https://www.google.com/maps/dir/?api=1&origin=...\n",
            "24  https://www.google.com/maps/dir/?api=1&origin=...\n",
            "25  https://www.google.com/maps/dir/?api=1&origin=...\n",
            "26  https://www.google.com/maps/dir/?api=1&origin=...\n"
          ]
        }
      ]
    },
    {
      "cell_type": "markdown",
      "source": [
        "# **Storing the links in other column**"
      ],
      "metadata": {
        "id": "qmdVgAi7pTLQ"
      }
    },
    {
      "cell_type": "code",
      "source": [
        "df['directions'] = location['href']"
      ],
      "metadata": {
        "id": "8cg2qSojE78W"
      },
      "execution_count": 9,
      "outputs": []
    },
    {
      "cell_type": "markdown",
      "source": [
        "# **Coordinates**\n",
        "This code **defines** a **regular** **expression** **pattern** to extract latitude and longitude values from a link **bold text**.\n",
        "\n",
        " It then **defines a function**, **extract_coords()**, that takes a link and **uses** the **regular expression pattern to extract the latitude and longitude values**. \n",
        " \n",
        "If a match is found, the function returns a string of the **latitude and longitude separated by a comma**. \n",
        "\n",
        "**Otherwise, it returns None**. \n",
        "\n",
        "Finally, **the apply()** method is used to apply the **extract_coords**() function to the href column of the location DataFrame to extract the coordinates. \n",
        "\n",
        "The **href** **column** now contains a string of the **latitude and longitude values for each location**."
      ],
      "metadata": {
        "id": "EecvYguQpYlf"
      }
    },
    {
      "cell_type": "code",
      "source": [
        "# Define a regular expression pattern to extract the latitude and longitude values\n",
        "pattern = r\"destination=([\\d\\.]+),([\\d\\.]+)\"\n",
        "\n",
        "# Define a function to extract the latitude and longitude values from a link\n",
        "def extract_coords(link):\n",
        "    match = re.search(pattern, link)\n",
        "    if match:\n",
        "        latitude = match.group(1)\n",
        "        longitude = match.group(2)\n",
        "        return f\"{latitude},{longitude}\"\n",
        "    else:\n",
        "        return None\n",
        "\n",
        "# Applying the extract_coords function to the href column to extract the coordinates\n",
        "location[\"href\"] = location[\"href\"].apply(extract_coords)"
      ],
      "metadata": {
        "id": "zNp9djO1DERi"
      },
      "execution_count": 10,
      "outputs": []
    },
    {
      "cell_type": "markdown",
      "source": [],
      "metadata": {
        "id": "Y_TDuYiFqJ_B"
      }
    },
    {
      "cell_type": "code",
      "source": [
        "df['coordinates'] = location['href']"
      ],
      "metadata": {
        "id": "rh5KqqrmEHse"
      },
      "execution_count": 11,
      "outputs": []
    },
    {
      "cell_type": "code",
      "source": [
        "df.head()"
      ],
      "metadata": {
        "colab": {
          "base_uri": "https://localhost:8080/",
          "height": 206
        },
        "id": "MRaTVPf9DGkd",
        "outputId": "6950408b-4759-4013-b634-0ba155b2e5d1"
      },
      "execution_count": 12,
      "outputs": [
        {
          "output_type": "execute_result",
          "data": {
            "text/plain": [
              "                                             address  \\\n",
              "0  No D 3, Block 1, Central Market 2, Lajpat Naga...   \n",
              "1  Shop No 610 And 611, Ravi Das Marg, Main Bazar...   \n",
              "2  C 7, Jyoti Nagar West, North Chajjupur, Block ...   \n",
              "3  No E/561/A & E/561B, Palam Extension, Dwarka, ...   \n",
              "4  Virendar Nagar, Block B, Sant Nagar, 100 feet ...   \n",
              "\n",
              "                              area      contact_no            coordinates  \\\n",
              "0   Lajpat Nagar, South East Delhi      7872478724    28.568548,77.242454   \n",
              "1           Laxmi Nagar, New Delhi  0844 8982 285   28.6365793,77.2790923   \n",
              "2              Shahdara, New Delhi  0844 8982 285    28.689468,77.2880388   \n",
              "3                Dwarka, New Delhi  0931 3699 995     28.583891,77.071784   \n",
              "4              Burari, North Delhi  0931 3699 995   28.7427944,77.1980152   \n",
              "\n",
              "                                timing  \\\n",
              "0  10:00 AM to 10:00 PM (Closing Soon)   \n",
              "1  10:00 AM to 10:00 PM (Closing Soon)   \n",
              "2  10:00 AM to 10:00 PM (Closing Soon)   \n",
              "3  10:00 AM to 10:00 PM (Closing Soon)   \n",
              "4  10:00 AM to 10:00 PM (Closing Soon)   \n",
              "\n",
              "                                          directions  \n",
              "0  https://www.google.com/maps/dir/?api=1&origin=...  \n",
              "1  https://www.google.com/maps/dir/?api=1&origin=...  \n",
              "2  https://www.google.com/maps/dir/?api=1&origin=...  \n",
              "3  https://www.google.com/maps/dir/?api=1&origin=...  \n",
              "4  https://www.google.com/maps/dir/?api=1&origin=...  "
            ],
            "text/html": [
              "\n",
              "  <div id=\"df-b3d17cee-e029-4ad8-acd4-5b2677b3a5a7\">\n",
              "    <div class=\"colab-df-container\">\n",
              "      <div>\n",
              "<style scoped>\n",
              "    .dataframe tbody tr th:only-of-type {\n",
              "        vertical-align: middle;\n",
              "    }\n",
              "\n",
              "    .dataframe tbody tr th {\n",
              "        vertical-align: top;\n",
              "    }\n",
              "\n",
              "    .dataframe thead th {\n",
              "        text-align: right;\n",
              "    }\n",
              "</style>\n",
              "<table border=\"1\" class=\"dataframe\">\n",
              "  <thead>\n",
              "    <tr style=\"text-align: right;\">\n",
              "      <th></th>\n",
              "      <th>address</th>\n",
              "      <th>area</th>\n",
              "      <th>contact_no</th>\n",
              "      <th>coordinates</th>\n",
              "      <th>timing</th>\n",
              "      <th>directions</th>\n",
              "    </tr>\n",
              "  </thead>\n",
              "  <tbody>\n",
              "    <tr>\n",
              "      <th>0</th>\n",
              "      <td>No D 3, Block 1, Central Market 2, Lajpat Naga...</td>\n",
              "      <td>Lajpat Nagar, South East Delhi</td>\n",
              "      <td>7872478724</td>\n",
              "      <td>28.568548,77.242454</td>\n",
              "      <td>10:00 AM to 10:00 PM (Closing Soon)</td>\n",
              "      <td>https://www.google.com/maps/dir/?api=1&amp;origin=...</td>\n",
              "    </tr>\n",
              "    <tr>\n",
              "      <th>1</th>\n",
              "      <td>Shop No 610 And 611, Ravi Das Marg, Main Bazar...</td>\n",
              "      <td>Laxmi Nagar, New Delhi</td>\n",
              "      <td>0844 8982 285</td>\n",
              "      <td>28.6365793,77.2790923</td>\n",
              "      <td>10:00 AM to 10:00 PM (Closing Soon)</td>\n",
              "      <td>https://www.google.com/maps/dir/?api=1&amp;origin=...</td>\n",
              "    </tr>\n",
              "    <tr>\n",
              "      <th>2</th>\n",
              "      <td>C 7, Jyoti Nagar West, North Chajjupur, Block ...</td>\n",
              "      <td>Shahdara, New Delhi</td>\n",
              "      <td>0844 8982 285</td>\n",
              "      <td>28.689468,77.2880388</td>\n",
              "      <td>10:00 AM to 10:00 PM (Closing Soon)</td>\n",
              "      <td>https://www.google.com/maps/dir/?api=1&amp;origin=...</td>\n",
              "    </tr>\n",
              "    <tr>\n",
              "      <th>3</th>\n",
              "      <td>No E/561/A &amp; E/561B, Palam Extension, Dwarka, ...</td>\n",
              "      <td>Dwarka, New Delhi</td>\n",
              "      <td>0931 3699 995</td>\n",
              "      <td>28.583891,77.071784</td>\n",
              "      <td>10:00 AM to 10:00 PM (Closing Soon)</td>\n",
              "      <td>https://www.google.com/maps/dir/?api=1&amp;origin=...</td>\n",
              "    </tr>\n",
              "    <tr>\n",
              "      <th>4</th>\n",
              "      <td>Virendar Nagar, Block B, Sant Nagar, 100 feet ...</td>\n",
              "      <td>Burari, North Delhi</td>\n",
              "      <td>0931 3699 995</td>\n",
              "      <td>28.7427944,77.1980152</td>\n",
              "      <td>10:00 AM to 10:00 PM (Closing Soon)</td>\n",
              "      <td>https://www.google.com/maps/dir/?api=1&amp;origin=...</td>\n",
              "    </tr>\n",
              "  </tbody>\n",
              "</table>\n",
              "</div>\n",
              "      <button class=\"colab-df-convert\" onclick=\"convertToInteractive('df-b3d17cee-e029-4ad8-acd4-5b2677b3a5a7')\"\n",
              "              title=\"Convert this dataframe to an interactive table.\"\n",
              "              style=\"display:none;\">\n",
              "        \n",
              "  <svg xmlns=\"http://www.w3.org/2000/svg\" height=\"24px\"viewBox=\"0 0 24 24\"\n",
              "       width=\"24px\">\n",
              "    <path d=\"M0 0h24v24H0V0z\" fill=\"none\"/>\n",
              "    <path d=\"M18.56 5.44l.94 2.06.94-2.06 2.06-.94-2.06-.94-.94-2.06-.94 2.06-2.06.94zm-11 1L8.5 8.5l.94-2.06 2.06-.94-2.06-.94L8.5 2.5l-.94 2.06-2.06.94zm10 10l.94 2.06.94-2.06 2.06-.94-2.06-.94-.94-2.06-.94 2.06-2.06.94z\"/><path d=\"M17.41 7.96l-1.37-1.37c-.4-.4-.92-.59-1.43-.59-.52 0-1.04.2-1.43.59L10.3 9.45l-7.72 7.72c-.78.78-.78 2.05 0 2.83L4 21.41c.39.39.9.59 1.41.59.51 0 1.02-.2 1.41-.59l7.78-7.78 2.81-2.81c.8-.78.8-2.07 0-2.86zM5.41 20L4 18.59l7.72-7.72 1.47 1.35L5.41 20z\"/>\n",
              "  </svg>\n",
              "      </button>\n",
              "      \n",
              "  <style>\n",
              "    .colab-df-container {\n",
              "      display:flex;\n",
              "      flex-wrap:wrap;\n",
              "      gap: 12px;\n",
              "    }\n",
              "\n",
              "    .colab-df-convert {\n",
              "      background-color: #E8F0FE;\n",
              "      border: none;\n",
              "      border-radius: 50%;\n",
              "      cursor: pointer;\n",
              "      display: none;\n",
              "      fill: #1967D2;\n",
              "      height: 32px;\n",
              "      padding: 0 0 0 0;\n",
              "      width: 32px;\n",
              "    }\n",
              "\n",
              "    .colab-df-convert:hover {\n",
              "      background-color: #E2EBFA;\n",
              "      box-shadow: 0px 1px 2px rgba(60, 64, 67, 0.3), 0px 1px 3px 1px rgba(60, 64, 67, 0.15);\n",
              "      fill: #174EA6;\n",
              "    }\n",
              "\n",
              "    [theme=dark] .colab-df-convert {\n",
              "      background-color: #3B4455;\n",
              "      fill: #D2E3FC;\n",
              "    }\n",
              "\n",
              "    [theme=dark] .colab-df-convert:hover {\n",
              "      background-color: #434B5C;\n",
              "      box-shadow: 0px 1px 3px 1px rgba(0, 0, 0, 0.15);\n",
              "      filter: drop-shadow(0px 1px 2px rgba(0, 0, 0, 0.3));\n",
              "      fill: #FFFFFF;\n",
              "    }\n",
              "  </style>\n",
              "\n",
              "      <script>\n",
              "        const buttonEl =\n",
              "          document.querySelector('#df-b3d17cee-e029-4ad8-acd4-5b2677b3a5a7 button.colab-df-convert');\n",
              "        buttonEl.style.display =\n",
              "          google.colab.kernel.accessAllowed ? 'block' : 'none';\n",
              "\n",
              "        async function convertToInteractive(key) {\n",
              "          const element = document.querySelector('#df-b3d17cee-e029-4ad8-acd4-5b2677b3a5a7');\n",
              "          const dataTable =\n",
              "            await google.colab.kernel.invokeFunction('convertToInteractive',\n",
              "                                                     [key], {});\n",
              "          if (!dataTable) return;\n",
              "\n",
              "          const docLinkHtml = 'Like what you see? Visit the ' +\n",
              "            '<a target=\"_blank\" href=https://colab.research.google.com/notebooks/data_table.ipynb>data table notebook</a>'\n",
              "            + ' to learn more about interactive tables.';\n",
              "          element.innerHTML = '';\n",
              "          dataTable['output_type'] = 'display_data';\n",
              "          await google.colab.output.renderOutput(dataTable, element);\n",
              "          const docLink = document.createElement('div');\n",
              "          docLink.innerHTML = docLinkHtml;\n",
              "          element.appendChild(docLink);\n",
              "        }\n",
              "      </script>\n",
              "    </div>\n",
              "  </div>\n",
              "  "
            ]
          },
          "metadata": {},
          "execution_count": 12
        }
      ]
    },
    {
      "cell_type": "code",
      "source": [
        "df.to_csv('data.csv', index=False)\n",
        "\n",
        "# download the CSV file\n",
        "from google.colab import files\n",
        "files.download('data.csv')"
      ],
      "metadata": {
        "colab": {
          "base_uri": "https://localhost:8080/",
          "height": 17
        },
        "id": "DrtAwJe-qr_6",
        "outputId": "fd9da039-7c17-486d-b229-8370ea56bb92"
      },
      "execution_count": 13,
      "outputs": [
        {
          "output_type": "display_data",
          "data": {
            "text/plain": [
              "<IPython.core.display.Javascript object>"
            ],
            "application/javascript": [
              "\n",
              "    async function download(id, filename, size) {\n",
              "      if (!google.colab.kernel.accessAllowed) {\n",
              "        return;\n",
              "      }\n",
              "      const div = document.createElement('div');\n",
              "      const label = document.createElement('label');\n",
              "      label.textContent = `Downloading \"${filename}\": `;\n",
              "      div.appendChild(label);\n",
              "      const progress = document.createElement('progress');\n",
              "      progress.max = size;\n",
              "      div.appendChild(progress);\n",
              "      document.body.appendChild(div);\n",
              "\n",
              "      const buffers = [];\n",
              "      let downloaded = 0;\n",
              "\n",
              "      const channel = await google.colab.kernel.comms.open(id);\n",
              "      // Send a message to notify the kernel that we're ready.\n",
              "      channel.send({})\n",
              "\n",
              "      for await (const message of channel.messages) {\n",
              "        // Send a message to notify the kernel that we're ready.\n",
              "        channel.send({})\n",
              "        if (message.buffers) {\n",
              "          for (const buffer of message.buffers) {\n",
              "            buffers.push(buffer);\n",
              "            downloaded += buffer.byteLength;\n",
              "            progress.value = downloaded;\n",
              "          }\n",
              "        }\n",
              "      }\n",
              "      const blob = new Blob(buffers, {type: 'application/binary'});\n",
              "      const a = document.createElement('a');\n",
              "      a.href = window.URL.createObjectURL(blob);\n",
              "      a.download = filename;\n",
              "      div.appendChild(a);\n",
              "      a.click();\n",
              "      div.remove();\n",
              "    }\n",
              "  "
            ]
          },
          "metadata": {}
        },
        {
          "output_type": "display_data",
          "data": {
            "text/plain": [
              "<IPython.core.display.Javascript object>"
            ],
            "application/javascript": [
              "download(\"download_d39705ea-2665-4634-9d7b-4faaffe3e386\", \"data.csv\", 7459)"
            ]
          },
          "metadata": {}
        }
      ]
    }
  ]
}